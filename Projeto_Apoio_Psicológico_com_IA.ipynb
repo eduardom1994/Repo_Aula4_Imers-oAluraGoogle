{
  "nbformat": 4,
  "nbformat_minor": 0,
  "metadata": {
    "colab": {
      "provenance": [],
      "collapsed_sections": [
        "A8HtR6NOm_u_",
        "bgiE3Y26oFPb"
      ],
      "authorship_tag": "ABX9TyO2OeMV3nLrdch0Z4MIFEAa",
      "include_colab_link": true
    },
    "kernelspec": {
      "name": "python3",
      "display_name": "Python 3"
    },
    "language_info": {
      "name": "python"
    }
  },
  "cells": [
    {
      "cell_type": "markdown",
      "metadata": {
        "id": "view-in-github",
        "colab_type": "text"
      },
      "source": [
        "<a href=\"https://colab.research.google.com/github/eduardom1994/Repo_Aula4_ImersaoAluraGoogle/blob/main/Projeto_Apoio_Psicol%C3%B3gico_com_IA.ipynb\" target=\"_parent\"><img src=\"https://colab.research.google.com/assets/colab-badge.svg\" alt=\"Open In Colab\"/></a>"
      ]
    },
    {
      "cell_type": "markdown",
      "source": [
        "**Um projeto para apoiar pessoas com problemas psicológicos, traumas ou doenças mentais é crucial para fornecer suporte e prevenção ao suicídio.**"
      ],
      "metadata": {
        "id": "chW3kSrzqzBe"
      }
    },
    {
      "cell_type": "markdown",
      "source": [
        "## **Instalação dos pacotes iniciais e configurações**"
      ],
      "metadata": {
        "id": "A8HtR6NOm_u_"
      }
    },
    {
      "cell_type": "code",
      "source": [
        "!pip install -q -U google-generativeai"
      ],
      "metadata": {
        "id": "FLmSpQkN-y4M"
      },
      "execution_count": null,
      "outputs": []
    },
    {
      "cell_type": "markdown",
      "source": [
        "### *Definição da chave, importação da biblioteca do google generative*"
      ],
      "metadata": {
        "id": "EjIk0B0InT5W"
      }
    },
    {
      "cell_type": "code",
      "source": [
        "# Import the Python SDK\n",
        "import google.generativeai as genai\n",
        "# API é uma chave, conforme dica da aula\n",
        "from google.colab import userdata\n",
        "api_key = userdata.get('SECRET_KEY')\n",
        "\n",
        "genai.configure(api_key=api_key)\n",
        "\n",
        "#Caso queira ver as models disponiveis, descomentar as 3 linhas seguintes, no meu caso decidi utilizar gemini-1.5-pro-latest pois precisei utilizar system_instruction\n",
        "#for m in genai.list_models():\n",
        "#  if 'generateContent' in m.supported_generation_methods:\n",
        "#    print(m.name)"
      ],
      "metadata": {
        "id": "XEkkSZlaBglG"
      },
      "execution_count": null,
      "outputs": []
    },
    {
      "cell_type": "markdown",
      "source": [
        "### Configuração:\n",
        " - Níveis de segurança\n",
        " - Temperatura\n",
        " - Modelo\n",
        "  - Sistema de instruções\n"
      ],
      "metadata": {
        "id": "eprvTrCFnhi6"
      }
    },
    {
      "cell_type": "code",
      "source": [
        "generation_config = {\n",
        "    \"candidate_count\":1,\n",
        "    \"temperature\":0.7,\n",
        "}\n",
        "\n",
        "safety_settings = {\n",
        "    \"HARASSMENT\": \"BLOCK_LOW_AND_ABOVE\",\n",
        "    \"HATE\":\"BLOCK_LOW_AND_ABOVE\",\n",
        "    \"SEXUAL\":\"BLOCK_LOW_AND_ABOVE\",\n",
        "    \"DANGEROUS\":\"BLOCK_LOW_AND_ABOVE\",\n",
        "}\n",
        "\n",
        "model = genai.GenerativeModel(model_name=\"models/gemini-1.5-pro-latest\",\n",
        "                              generation_config=generation_config,\n",
        "                              safety_settings=safety_settings,\n",
        "                              system_instruction=\"Eu sou um profissional de saúde mental dedicado a auxiliar pessoas que enfrentaram problemas psicológicos. Esses problemas podem ser relacionados a catástrofes naturais e também problemas de saúde como depressão. Minha bússola é a empatia e a compaixão, aceitando a todos de rbaços abertos. Com resiliência, abraço a intensidade emocional do trabalho, utilizando meu conhecimento sobre trauma para ajudar cada indivíduo a trilhar seu caminho de cura. Acredito no poder da conexão humana e, por isso, utilizo a terapia de grupo para fortalecer o apoio mútuo e combater o isolamento. Todos unidos são mais fortes. Exemplo de pergunta realizada: Não estou me sentindo bem, pode me ajudar. Resposta: Sim, estou aqui para ser seu parceiro nessa luta que você está. As perguntas terão um nível de sensibilidade alta, portanto cuidade com palavras ofensivas, e seja sempre o apoio dando conselhos para a melhora da pessoa. As respostas não devem ser longas pois na minha opinião, frases curtas a médias trazem mais conforto e cansam menos. Cada ponto final faça uma quebra de linha para as mensagem não ficarem longas demais, mas lembre de sempre criar lógica nas soluções.\")"
      ],
      "metadata": {
        "id": "6_0Kc_ft-p-f"
      },
      "execution_count": null,
      "outputs": []
    },
    {
      "cell_type": "markdown",
      "source": [
        "## **Código fonte principal da estrutura do projeto**"
      ],
      "metadata": {
        "id": "bgiE3Y26oFPb"
      }
    },
    {
      "cell_type": "markdown",
      "source": [
        "### **Inicia ou resetar chat Bot**\n",
        " - *Utilizei para limpeza do chat*"
      ],
      "metadata": {
        "id": "QbVCEfC6CP9o"
      }
    },
    {
      "cell_type": "code",
      "source": [
        "chatBot = model.start_chat(history=[])"
      ],
      "metadata": {
        "id": "sFaV5L1l9qIl"
      },
      "execution_count": 306,
      "outputs": []
    },
    {
      "cell_type": "markdown",
      "source": [
        "### ***Bibliotecas de markdown e funções.***"
      ],
      "metadata": {
        "id": "PkEbQYZwoU0B"
      }
    },
    {
      "cell_type": "code",
      "source": [
        "import textwrap as tw\n",
        "from IPython.display import display as dp\n",
        "from IPython.display import Markdown as mkd\n",
        "\n",
        "'''\n",
        "  Duas funções, sendo uma para personalizar o texto do nome de usuário e outra para personalizar a mensagem\n",
        "'''\n",
        "def to_markdown_user(text):\n",
        "  text = text.replace('•', '  *')\n",
        "  return mkd(tw.indent(text, '', predicate=lambda _: True))\n",
        "\n",
        "def to_markdown_response(text):\n",
        "  text = text.replace('•', '  *')\n",
        "  return mkd(tw.indent(text, '> ', predicate=lambda _: True))"
      ],
      "metadata": {
        "id": "LLxxywfeoSbS"
      },
      "execution_count": 307,
      "outputs": []
    },
    {
      "cell_type": "markdown",
      "source": [
        "### ***Código de execução Principal***"
      ],
      "metadata": {
        "id": "tmqXddRBoiEO"
      }
    },
    {
      "cell_type": "code",
      "source": [
        "'''\n",
        "  Aqui eu imprimo o histórico das mensagens antes de cada inicio de chat passando a sensação de diálogo\n",
        "'''\n",
        "print(\"Para finalizar o chat com a IA, digite fim\")\n",
        "for message in chatBot.history:\n",
        "    if message.role == 'model':\n",
        "        display(to_markdown_user('**IA de Apoio Emocional**:\\n'))\n",
        "    else:\n",
        "        display(to_markdown_user('**Você**:\\n'))\n",
        "    display(to_markdown_response(f'{message.parts[0].text}'))\n",
        "\n",
        "#Aqui começo a prepara os inputs de diálogo\n",
        "display(to_markdown_user('**Você**:\\n'))\n",
        "prompt = input(\"      \")\n",
        "\n",
        "if prompt.lower() == \"fim\":\n",
        "        display(to_markdown_user('Deseja mesmo finalizar o chat?\\n [Sim] - Digite 1 - [Não] - Digite 2'))\n",
        "        ppt = input(\"\")\n",
        "        if ppt == \"1\":\n",
        "            prompt = \"FIM\"\n",
        "            display(to_markdown_user('\\nSaiu do chat com sucesso!!!'))\n",
        "        elif ppt == \"2\":\n",
        "            prompt = \" \"\n",
        "\n",
        "\n",
        "while prompt.lower() != \"fim\":\n",
        "    response = chatBot.send_message(prompt)\n",
        "    display(to_markdown_user('**IA de Apoio Emocional**:\\n'))\n",
        "    display(to_markdown_response(f'{response.text}'))\n",
        "    display(to_markdown_user('**Você**:\\n'))\n",
        "    prompt = input(\"      \")\n",
        "\n",
        "    if prompt.lower() == \"fim\":\n",
        "        display(to_markdown_user('Deseja mesmo finalizar o chat?\\n [Sim] - Digite 1 - [Não] - Digite 2'))\n",
        "        ppt = input(\"\")\n",
        "        if ppt == \"1\":\n",
        "            prompt = \"FIM\"\n",
        "            display(to_markdown_user('\\nSaiu do chat com sucesso!!!'))\n",
        "        elif ppt == \"2\":\n",
        "            prompt = \"Pensei em parar de conversar, mas decidi continuar!\"\n"
      ],
      "metadata": {
        "id": "M1sl7Xws9szM"
      },
      "execution_count": null,
      "outputs": []
    }
  ]
}